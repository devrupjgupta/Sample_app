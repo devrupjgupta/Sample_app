{
 "cells": [
  {
   "cell_type": "code",
   "execution_count": 1,
   "metadata": {},
   "outputs": [
    {
     "name": "stderr",
     "output_type": "stream",
     "text": [
      "2024-05-24 18:11:49.462 INFO    numexpr.utils: Note: NumExpr detected 12 cores but \"NUMEXPR_MAX_THREADS\" not set, so enforcing safe limit of 8.\n",
      "2024-05-24 18:11:49.463 INFO    numexpr.utils: NumExpr defaulting to 8 threads.\n",
      "2024-05-24 18:11:50.637 WARNING root: \n",
      "  \u001b[33m\u001b[1mWarning:\u001b[0m to view this Streamlit app on a browser, run it with the following\n",
      "  command:\n",
      "\n",
      "    streamlit run /Users/devrupgupta/opt/anaconda3/lib/python3.8/site-packages/ipykernel_launcher.py [ARGUMENTS]\n"
     ]
    }
   ],
   "source": [
    "# app.ipynb\n",
    "import streamlit as st\n",
    "import pandas as pd\n",
    "\n",
    "# Title of the app\n",
    "st.title('Simple Data Analysis App')\n",
    "\n",
    "# File uploader widget\n",
    "uploaded_file = st.file_uploader(\"Choose an Excel file\", type=\"xlsx\")\n",
    "\n",
    "if uploaded_file is not None:\n",
    "    # Read the Excel file\n",
    "    df = pd.read_excel(uploaded_file)\n",
    "    \n",
    "    # Display the dataframe\n",
    "    st.write(\"Dataframe:\")\n",
    "    st.write(df)\n",
    "    \n",
    "    # Display descriptive statistics\n",
    "    st.write(\"Summary:\")\n",
    "    st.write(df.describe())"
   ]
  },
  {
   "cell_type": "code",
   "execution_count": null,
   "metadata": {},
   "outputs": [],
   "source": []
  }
 ],
 "metadata": {
  "kernelspec": {
   "display_name": "Python 3",
   "language": "python",
   "name": "python3"
  },
  "language_info": {
   "codemirror_mode": {
    "name": "ipython",
    "version": 3
   },
   "file_extension": ".py",
   "mimetype": "text/x-python",
   "name": "python",
   "nbconvert_exporter": "python",
   "pygments_lexer": "ipython3",
   "version": "3.8.5"
  }
 },
 "nbformat": 4,
 "nbformat_minor": 4
}
